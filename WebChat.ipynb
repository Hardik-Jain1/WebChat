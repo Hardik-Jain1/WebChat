{
  "nbformat": 4,
  "nbformat_minor": 0,
  "metadata": {
    "colab": {
      "provenance": []
    },
    "kernelspec": {
      "name": "python3",
      "display_name": "Python 3"
    },
    "language_info": {
      "name": "python"
    }
  },
  "cells": [
    {
      "cell_type": "code",
      "execution_count": 1,
      "metadata": {
        "colab": {
          "base_uri": "https://localhost:8080/"
        },
        "id": "AV2-vt1eZ4IE",
        "outputId": "5ce56210-37fc-4971-acf3-6072cbabc90c"
      },
      "outputs": [
        {
          "output_type": "stream",
          "name": "stdout",
          "text": [
            "Collecting langchain\n",
            "  Downloading langchain-0.1.7-py3-none-any.whl (815 kB)\n",
            "\u001b[2K     \u001b[90m━━━━━━━━━━━━━━━━━━━━━━━━━━━━━━━━━━━━━━━━\u001b[0m \u001b[32m815.9/815.9 kB\u001b[0m \u001b[31m4.7 MB/s\u001b[0m eta \u001b[36m0:00:00\u001b[0m\n",
            "\u001b[?25hRequirement already satisfied: PyYAML>=5.3 in /usr/local/lib/python3.10/dist-packages (from langchain) (6.0.1)\n",
            "Requirement already satisfied: SQLAlchemy<3,>=1.4 in /usr/local/lib/python3.10/dist-packages (from langchain) (2.0.27)\n",
            "Requirement already satisfied: aiohttp<4.0.0,>=3.8.3 in /usr/local/lib/python3.10/dist-packages (from langchain) (3.9.3)\n",
            "Requirement already satisfied: async-timeout<5.0.0,>=4.0.0 in /usr/local/lib/python3.10/dist-packages (from langchain) (4.0.3)\n",
            "Collecting dataclasses-json<0.7,>=0.5.7 (from langchain)\n",
            "  Downloading dataclasses_json-0.6.4-py3-none-any.whl (28 kB)\n",
            "Collecting jsonpatch<2.0,>=1.33 (from langchain)\n",
            "  Downloading jsonpatch-1.33-py2.py3-none-any.whl (12 kB)\n",
            "Collecting langchain-community<0.1,>=0.0.20 (from langchain)\n",
            "  Downloading langchain_community-0.0.20-py3-none-any.whl (1.7 MB)\n",
            "\u001b[2K     \u001b[90m━━━━━━━━━━━━━━━━━━━━━━━━━━━━━━━━━━━━━━━━\u001b[0m \u001b[32m1.7/1.7 MB\u001b[0m \u001b[31m26.1 MB/s\u001b[0m eta \u001b[36m0:00:00\u001b[0m\n",
            "\u001b[?25hCollecting langchain-core<0.2,>=0.1.22 (from langchain)\n",
            "  Downloading langchain_core-0.1.23-py3-none-any.whl (241 kB)\n",
            "\u001b[2K     \u001b[90m━━━━━━━━━━━━━━━━━━━━━━━━━━━━━━━━━━━━━━━━\u001b[0m \u001b[32m241.2/241.2 kB\u001b[0m \u001b[31m18.8 MB/s\u001b[0m eta \u001b[36m0:00:00\u001b[0m\n",
            "\u001b[?25hCollecting langsmith<0.1,>=0.0.83 (from langchain)\n",
            "  Downloading langsmith-0.0.92-py3-none-any.whl (56 kB)\n",
            "\u001b[2K     \u001b[90m━━━━━━━━━━━━━━━━━━━━━━━━━━━━━━━━━━━━━━━━\u001b[0m \u001b[32m56.5/56.5 kB\u001b[0m \u001b[31m6.2 MB/s\u001b[0m eta \u001b[36m0:00:00\u001b[0m\n",
            "\u001b[?25hRequirement already satisfied: numpy<2,>=1 in /usr/local/lib/python3.10/dist-packages (from langchain) (1.25.2)\n",
            "Requirement already satisfied: pydantic<3,>=1 in /usr/local/lib/python3.10/dist-packages (from langchain) (2.6.1)\n",
            "Requirement already satisfied: requests<3,>=2 in /usr/local/lib/python3.10/dist-packages (from langchain) (2.31.0)\n",
            "Requirement already satisfied: tenacity<9.0.0,>=8.1.0 in /usr/local/lib/python3.10/dist-packages (from langchain) (8.2.3)\n",
            "Requirement already satisfied: aiosignal>=1.1.2 in /usr/local/lib/python3.10/dist-packages (from aiohttp<4.0.0,>=3.8.3->langchain) (1.3.1)\n",
            "Requirement already satisfied: attrs>=17.3.0 in /usr/local/lib/python3.10/dist-packages (from aiohttp<4.0.0,>=3.8.3->langchain) (23.2.0)\n",
            "Requirement already satisfied: frozenlist>=1.1.1 in /usr/local/lib/python3.10/dist-packages (from aiohttp<4.0.0,>=3.8.3->langchain) (1.4.1)\n",
            "Requirement already satisfied: multidict<7.0,>=4.5 in /usr/local/lib/python3.10/dist-packages (from aiohttp<4.0.0,>=3.8.3->langchain) (6.0.5)\n",
            "Requirement already satisfied: yarl<2.0,>=1.0 in /usr/local/lib/python3.10/dist-packages (from aiohttp<4.0.0,>=3.8.3->langchain) (1.9.4)\n",
            "Collecting marshmallow<4.0.0,>=3.18.0 (from dataclasses-json<0.7,>=0.5.7->langchain)\n",
            "  Downloading marshmallow-3.20.2-py3-none-any.whl (49 kB)\n",
            "\u001b[2K     \u001b[90m━━━━━━━━━━━━━━━━━━━━━━━━━━━━━━━━━━━━━━━━\u001b[0m \u001b[32m49.4/49.4 kB\u001b[0m \u001b[31m5.1 MB/s\u001b[0m eta \u001b[36m0:00:00\u001b[0m\n",
            "\u001b[?25hCollecting typing-inspect<1,>=0.4.0 (from dataclasses-json<0.7,>=0.5.7->langchain)\n",
            "  Downloading typing_inspect-0.9.0-py3-none-any.whl (8.8 kB)\n",
            "Collecting jsonpointer>=1.9 (from jsonpatch<2.0,>=1.33->langchain)\n",
            "  Downloading jsonpointer-2.4-py2.py3-none-any.whl (7.8 kB)\n",
            "Requirement already satisfied: anyio<5,>=3 in /usr/local/lib/python3.10/dist-packages (from langchain-core<0.2,>=0.1.22->langchain) (3.7.1)\n",
            "Collecting langsmith<0.1,>=0.0.83 (from langchain)\n",
            "  Downloading langsmith-0.0.87-py3-none-any.whl (55 kB)\n",
            "\u001b[2K     \u001b[90m━━━━━━━━━━━━━━━━━━━━━━━━━━━━━━━━━━━━━━━━\u001b[0m \u001b[32m55.4/55.4 kB\u001b[0m \u001b[31m5.3 MB/s\u001b[0m eta \u001b[36m0:00:00\u001b[0m\n",
            "\u001b[?25hRequirement already satisfied: packaging<24.0,>=23.2 in /usr/local/lib/python3.10/dist-packages (from langchain-core<0.2,>=0.1.22->langchain) (23.2)\n",
            "Requirement already satisfied: annotated-types>=0.4.0 in /usr/local/lib/python3.10/dist-packages (from pydantic<3,>=1->langchain) (0.6.0)\n",
            "Requirement already satisfied: pydantic-core==2.16.2 in /usr/local/lib/python3.10/dist-packages (from pydantic<3,>=1->langchain) (2.16.2)\n",
            "Requirement already satisfied: typing-extensions>=4.6.1 in /usr/local/lib/python3.10/dist-packages (from pydantic<3,>=1->langchain) (4.9.0)\n",
            "Requirement already satisfied: charset-normalizer<4,>=2 in /usr/local/lib/python3.10/dist-packages (from requests<3,>=2->langchain) (3.3.2)\n",
            "Requirement already satisfied: idna<4,>=2.5 in /usr/local/lib/python3.10/dist-packages (from requests<3,>=2->langchain) (3.6)\n",
            "Requirement already satisfied: urllib3<3,>=1.21.1 in /usr/local/lib/python3.10/dist-packages (from requests<3,>=2->langchain) (2.0.7)\n",
            "Requirement already satisfied: certifi>=2017.4.17 in /usr/local/lib/python3.10/dist-packages (from requests<3,>=2->langchain) (2024.2.2)\n",
            "Requirement already satisfied: greenlet!=0.4.17 in /usr/local/lib/python3.10/dist-packages (from SQLAlchemy<3,>=1.4->langchain) (3.0.3)\n",
            "Requirement already satisfied: sniffio>=1.1 in /usr/local/lib/python3.10/dist-packages (from anyio<5,>=3->langchain-core<0.2,>=0.1.22->langchain) (1.3.0)\n",
            "Requirement already satisfied: exceptiongroup in /usr/local/lib/python3.10/dist-packages (from anyio<5,>=3->langchain-core<0.2,>=0.1.22->langchain) (1.2.0)\n",
            "Collecting mypy-extensions>=0.3.0 (from typing-inspect<1,>=0.4.0->dataclasses-json<0.7,>=0.5.7->langchain)\n",
            "  Downloading mypy_extensions-1.0.0-py3-none-any.whl (4.7 kB)\n",
            "Installing collected packages: mypy-extensions, marshmallow, jsonpointer, typing-inspect, jsonpatch, langsmith, dataclasses-json, langchain-core, langchain-community, langchain\n",
            "Successfully installed dataclasses-json-0.6.4 jsonpatch-1.33 jsonpointer-2.4 langchain-0.1.7 langchain-community-0.0.20 langchain-core-0.1.23 langsmith-0.0.87 marshmallow-3.20.2 mypy-extensions-1.0.0 typing-inspect-0.9.0\n",
            "Collecting langchain-openai\n",
            "  Downloading langchain_openai-0.0.6-py3-none-any.whl (29 kB)\n",
            "Requirement already satisfied: langchain-core<0.2,>=0.1.16 in /usr/local/lib/python3.10/dist-packages (from langchain-openai) (0.1.23)\n",
            "Requirement already satisfied: numpy<2,>=1 in /usr/local/lib/python3.10/dist-packages (from langchain-openai) (1.25.2)\n",
            "Collecting openai<2.0.0,>=1.10.0 (from langchain-openai)\n",
            "  Downloading openai-1.12.0-py3-none-any.whl (226 kB)\n",
            "\u001b[2K     \u001b[90m━━━━━━━━━━━━━━━━━━━━━━━━━━━━━━━━━━━━━━━━\u001b[0m \u001b[32m226.7/226.7 kB\u001b[0m \u001b[31m2.5 MB/s\u001b[0m eta \u001b[36m0:00:00\u001b[0m\n",
            "\u001b[?25hCollecting tiktoken<1,>=0.5.2 (from langchain-openai)\n",
            "  Downloading tiktoken-0.6.0-cp310-cp310-manylinux_2_17_x86_64.manylinux2014_x86_64.whl (1.8 MB)\n",
            "\u001b[2K     \u001b[90m━━━━━━━━━━━━━━━━━━━━━━━━━━━━━━━━━━━━━━━━\u001b[0m \u001b[32m1.8/1.8 MB\u001b[0m \u001b[31m14.2 MB/s\u001b[0m eta \u001b[36m0:00:00\u001b[0m\n",
            "\u001b[?25hRequirement already satisfied: PyYAML>=5.3 in /usr/local/lib/python3.10/dist-packages (from langchain-core<0.2,>=0.1.16->langchain-openai) (6.0.1)\n",
            "Requirement already satisfied: anyio<5,>=3 in /usr/local/lib/python3.10/dist-packages (from langchain-core<0.2,>=0.1.16->langchain-openai) (3.7.1)\n",
            "Requirement already satisfied: jsonpatch<2.0,>=1.33 in /usr/local/lib/python3.10/dist-packages (from langchain-core<0.2,>=0.1.16->langchain-openai) (1.33)\n",
            "Requirement already satisfied: langsmith<0.0.88,>=0.0.87 in /usr/local/lib/python3.10/dist-packages (from langchain-core<0.2,>=0.1.16->langchain-openai) (0.0.87)\n",
            "Requirement already satisfied: packaging<24.0,>=23.2 in /usr/local/lib/python3.10/dist-packages (from langchain-core<0.2,>=0.1.16->langchain-openai) (23.2)\n",
            "Requirement already satisfied: pydantic<3,>=1 in /usr/local/lib/python3.10/dist-packages (from langchain-core<0.2,>=0.1.16->langchain-openai) (2.6.1)\n",
            "Requirement already satisfied: requests<3,>=2 in /usr/local/lib/python3.10/dist-packages (from langchain-core<0.2,>=0.1.16->langchain-openai) (2.31.0)\n",
            "Requirement already satisfied: tenacity<9.0.0,>=8.1.0 in /usr/local/lib/python3.10/dist-packages (from langchain-core<0.2,>=0.1.16->langchain-openai) (8.2.3)\n",
            "Requirement already satisfied: distro<2,>=1.7.0 in /usr/lib/python3/dist-packages (from openai<2.0.0,>=1.10.0->langchain-openai) (1.7.0)\n",
            "Collecting httpx<1,>=0.23.0 (from openai<2.0.0,>=1.10.0->langchain-openai)\n",
            "  Downloading httpx-0.26.0-py3-none-any.whl (75 kB)\n",
            "\u001b[2K     \u001b[90m━━━━━━━━━━━━━━━━━━━━━━━━━━━━━━━━━━━━━━━━\u001b[0m \u001b[32m75.9/75.9 kB\u001b[0m \u001b[31m7.4 MB/s\u001b[0m eta \u001b[36m0:00:00\u001b[0m\n",
            "\u001b[?25hRequirement already satisfied: sniffio in /usr/local/lib/python3.10/dist-packages (from openai<2.0.0,>=1.10.0->langchain-openai) (1.3.0)\n",
            "Requirement already satisfied: tqdm>4 in /usr/local/lib/python3.10/dist-packages (from openai<2.0.0,>=1.10.0->langchain-openai) (4.66.2)\n",
            "Requirement already satisfied: typing-extensions<5,>=4.7 in /usr/local/lib/python3.10/dist-packages (from openai<2.0.0,>=1.10.0->langchain-openai) (4.9.0)\n",
            "Requirement already satisfied: regex>=2022.1.18 in /usr/local/lib/python3.10/dist-packages (from tiktoken<1,>=0.5.2->langchain-openai) (2023.12.25)\n",
            "Requirement already satisfied: idna>=2.8 in /usr/local/lib/python3.10/dist-packages (from anyio<5,>=3->langchain-core<0.2,>=0.1.16->langchain-openai) (3.6)\n",
            "Requirement already satisfied: exceptiongroup in /usr/local/lib/python3.10/dist-packages (from anyio<5,>=3->langchain-core<0.2,>=0.1.16->langchain-openai) (1.2.0)\n",
            "Requirement already satisfied: certifi in /usr/local/lib/python3.10/dist-packages (from httpx<1,>=0.23.0->openai<2.0.0,>=1.10.0->langchain-openai) (2024.2.2)\n",
            "Collecting httpcore==1.* (from httpx<1,>=0.23.0->openai<2.0.0,>=1.10.0->langchain-openai)\n",
            "  Downloading httpcore-1.0.3-py3-none-any.whl (77 kB)\n",
            "\u001b[2K     \u001b[90m━━━━━━━━━━━━━━━━━━━━━━━━━━━━━━━━━━━━━━━━\u001b[0m \u001b[32m77.0/77.0 kB\u001b[0m \u001b[31m7.9 MB/s\u001b[0m eta \u001b[36m0:00:00\u001b[0m\n",
            "\u001b[?25hCollecting h11<0.15,>=0.13 (from httpcore==1.*->httpx<1,>=0.23.0->openai<2.0.0,>=1.10.0->langchain-openai)\n",
            "  Downloading h11-0.14.0-py3-none-any.whl (58 kB)\n",
            "\u001b[2K     \u001b[90m━━━━━━━━━━━━━━━━━━━━━━━━━━━━━━━━━━━━━━━━\u001b[0m \u001b[32m58.3/58.3 kB\u001b[0m \u001b[31m6.0 MB/s\u001b[0m eta \u001b[36m0:00:00\u001b[0m\n",
            "\u001b[?25hRequirement already satisfied: jsonpointer>=1.9 in /usr/local/lib/python3.10/dist-packages (from jsonpatch<2.0,>=1.33->langchain-core<0.2,>=0.1.16->langchain-openai) (2.4)\n",
            "Requirement already satisfied: annotated-types>=0.4.0 in /usr/local/lib/python3.10/dist-packages (from pydantic<3,>=1->langchain-core<0.2,>=0.1.16->langchain-openai) (0.6.0)\n",
            "Requirement already satisfied: pydantic-core==2.16.2 in /usr/local/lib/python3.10/dist-packages (from pydantic<3,>=1->langchain-core<0.2,>=0.1.16->langchain-openai) (2.16.2)\n",
            "Requirement already satisfied: charset-normalizer<4,>=2 in /usr/local/lib/python3.10/dist-packages (from requests<3,>=2->langchain-core<0.2,>=0.1.16->langchain-openai) (3.3.2)\n",
            "Requirement already satisfied: urllib3<3,>=1.21.1 in /usr/local/lib/python3.10/dist-packages (from requests<3,>=2->langchain-core<0.2,>=0.1.16->langchain-openai) (2.0.7)\n",
            "Installing collected packages: h11, tiktoken, httpcore, httpx, openai, langchain-openai\n",
            "\u001b[31mERROR: pip's dependency resolver does not currently take into account all the packages that are installed. This behaviour is the source of the following dependency conflicts.\n",
            "llmx 0.0.15a0 requires cohere, which is not installed.\u001b[0m\u001b[31m\n",
            "\u001b[0mSuccessfully installed h11-0.14.0 httpcore-1.0.3 httpx-0.26.0 langchain-openai-0.0.6 openai-1.12.0 tiktoken-0.6.0\n",
            "Collecting faiss-cpu\n",
            "  Downloading faiss_cpu-1.7.4-cp310-cp310-manylinux_2_17_x86_64.manylinux2014_x86_64.whl (17.6 MB)\n",
            "\u001b[2K     \u001b[90m━━━━━━━━━━━━━━━━━━━━━━━━━━━━━━━━━━━━━━━━\u001b[0m \u001b[32m17.6/17.6 MB\u001b[0m \u001b[31m44.3 MB/s\u001b[0m eta \u001b[36m0:00:00\u001b[0m\n",
            "\u001b[?25hInstalling collected packages: faiss-cpu\n",
            "Successfully installed faiss-cpu-1.7.4\n",
            "Requirement already satisfied: requests in /usr/local/lib/python3.10/dist-packages (2.31.0)\n",
            "Requirement already satisfied: charset-normalizer<4,>=2 in /usr/local/lib/python3.10/dist-packages (from requests) (3.3.2)\n",
            "Requirement already satisfied: idna<4,>=2.5 in /usr/local/lib/python3.10/dist-packages (from requests) (3.6)\n",
            "Requirement already satisfied: urllib3<3,>=1.21.1 in /usr/local/lib/python3.10/dist-packages (from requests) (2.0.7)\n",
            "Requirement already satisfied: certifi>=2017.4.17 in /usr/local/lib/python3.10/dist-packages (from requests) (2024.2.2)\n",
            "Requirement already satisfied: beautifulsoup4 in /usr/local/lib/python3.10/dist-packages (4.12.3)\n",
            "Requirement already satisfied: soupsieve>1.2 in /usr/local/lib/python3.10/dist-packages (from beautifulsoup4) (2.5)\n"
          ]
        }
      ],
      "source": [
        "%pip install langchain\n",
        "%pip install langchain-openai\n",
        "%pip install faiss-cpu\n",
        "%pip install requests\n",
        "%pip install beautifulsoup4"
      ]
    },
    {
      "cell_type": "markdown",
      "source": [
        "# Getting and formating the Data from Website"
      ],
      "metadata": {
        "id": "TMlh6PqTU9bs"
      }
    },
    {
      "cell_type": "markdown",
      "source": [
        "## Fetching the website's content via the provided URL"
      ],
      "metadata": {
        "id": "wdUpPQL_P3Xn"
      }
    },
    {
      "cell_type": "code",
      "source": [
        "import requests\n",
        "from bs4 import BeautifulSoup\n",
        "url=input(\"Enter the URL: \")\n",
        "response = requests.get(url)\n",
        "soup = BeautifulSoup(response.text, 'html.parser')\n",
        "\n",
        "data = soup.text\n"
      ],
      "metadata": {
        "colab": {
          "base_uri": "https://localhost:8080/"
        },
        "id": "FjkoLE-gZ-J_",
        "outputId": "ff11ea9f-31c4-4be9-9bc5-c14090417180"
      },
      "execution_count": 2,
      "outputs": [
        {
          "name": "stdout",
          "output_type": "stream",
          "text": [
            "Enter the URL: https://botpenguin.com/\n"
          ]
        }
      ]
    },
    {
      "cell_type": "code",
      "source": [
        "data"
      ],
      "metadata": {
        "colab": {
          "base_uri": "https://localhost:8080/",
          "height": 109
        },
        "id": "WJ8c_pDPaLc_",
        "outputId": "3f3fbe9e-a72c-4bb0-9389-684c41b405b9"
      },
      "execution_count": 3,
      "outputs": [
        {
          "output_type": "execute_result",
          "data": {
            "text/plain": [
              "\"\\n\\n\\n\\n\\n\\n\\n\\n\\nFree Chatbot maker | Chatbot for Website, WhatsApp | BotPenguin\\n\\n\\n\\n\\n\\n\\n\\n\\n\\n\\n\\nGot 10k+ Facebook followers? Get BotPenguin FREE for 6 monthsClaim close Why BotPenguin Integrations  arrow_right_alt Experience 60+ world-class integrations.Live Chat  arrow_right_alt Stay in the loop with your clientele 24*7!Unified Inbox  arrow_right_alt Serve your customers across all platforms.Key Features  arrow_right_alt Take your business to the next level with our awesome key features.Analytics  arrow_right_alt Speedtrack your growth with our top-of-the-line analytics tools!ComparisonsBotPenguin Vs. ManychatBotPenguin Vs. TidioBotPenguin vs Tawk toBotPenguin Vs. WatiBotPenguin Vs. InteraktBotPenguin vs AiSensyBotPenguin Vs. LandbotProduct What can it do?Who can use it?Where can it run?Marketing Automation  arrow_right_alt Make marketing a boon from the automation gods!WhatsApp Automation  arrow_right_alt Get that nifty automation for WhatsApp too!Customer Support  arrow_right_alt Your customers are in for a treat with this automation.Lead Generation  arrow_right_alt Gain more leads without any extra effort or expenses.FB Automation  arrow_right_alt Engage with your customers on a deeper level.Appointment Bookings  arrow_right_alt No more delays, BotPenguin’s got you here! Solutions Custom DevelopmentHire DevelopersWhitelabel ChatGPT  arrow_right_alt Apply your branding on ChatGPT, Launch your own AI platformChatGPT Custom Plugins  arrow_right_alt Integrate your service straight into ChatGPTCustom Chatbot Development  arrow_right_alt Build enterprise-grade chatbots with the industry's best technology for youChatGPT Clone  arrow_right_alt Add functionality and branding on ChatGPTPricing Chatbot Pricing (except WA)  arrow_right_alt Our pricing for Website, Telegram, Facebook and Live Chat botsWhitelabel Chatbot Pricing  arrow_right_alt Our pricing for Whitelabel ChatbotWhatsApp Chatbot Pricing  arrow_right_alt Our WhatsApp API and chatbot pricingPartners Partners Home  arrow_right_alt Join hands with us, and welcome growthWhatsapp Whitelabel Partners  arrow_right_alt Conquer the WhatsApp land with BotPenguin's White Label PlatformWhitelabel Partners  arrow_right_alt Say hi to the best Whitelabel chatbot platform everAffiliate Partners  arrow_right_alt Earn more and keep your clients happierImplementation Partners  arrow_right_alt As they say, a partner is worth trillions!LoginGet Started FREE  Get Started FREE  arrow_forward  Why BotPenguin expand_more Integrations arrow_right_alt Live Chat arrow_right_alt Unified Inbox arrow_right_alt Key Features arrow_right_alt Analytics arrow_right_alt  Product  expand_more What can it do? expand_more Marketing Automation arrow_right_alt WhatsApp Automation arrow_right_alt Customer Support arrow_right_alt Lead Generation arrow_right_alt FB Automation arrow_right_alt Appointment Bookings arrow_right_alt Who can use it? expand_more Healthcare arrow_right_alt Education arrow_right_alt E-commerce arrow_right_alt Real Estate arrow_right_alt Consultants arrow_right_alt SaaS arrow_right_alt Tours & Travels arrow_right_alt Where can it run? expand_more WhatsApp Chatbot arrow_right_alt Telegram Chatbot arrow_right_alt Facebook Chatbot arrow_right_alt Instagram Chatbot arrow_right_alt Websites Chatbot arrow_right_alt Wordpress Chatbot arrow_right_alt WooCommerce Chatbot arrow_right_alt Squarespace Chatbot arrow_right_alt Microsoft Teams Chatbot arrow_right_alt Solutions expand_more Custom Development expand_more Whitelabel ChatGPT arrow_right_alt ChatGPT Custom Plugins arrow_right_alt Custom Chatbot Development arrow_right_alt ChatGPT Clone arrow_right_alt Hire Developers expand_more Chatbot Developers arrow_right_alt ChatGPT Developers arrow_right_alt ChatGPT Consultants arrow_right_alt Pricing expand_more Chatbot Pricing (except WA) arrow_right_alt Whitelabel Chatbot Pricing arrow_right_alt WhatsApp Chatbot Pricing arrow_right_alt  Partners expand_more Partners Home arrow_right_alt Whatsapp Whitelabel Partners arrow_right_alt Whitelabel Partners arrow_right_alt Affiliate Partners arrow_right_alt Implementation Partners arrow_right_alt  Login  arrow_forward DO MORE with Chat Automation!BotPenguin’s Chatbot Maker and Live Chat for Website, WhatsApp, Facebook and Telegram!More leads.More engagement.Better customer support.Get leads the moment your visitors interact with your website. Get Started FREE FREE Forever Plan, No Credit Card RequiredAn AI chatbot that can be anywhere, anytimeKeep your customers happy and engaged with an omni channel presence across all platforms with BotPenguin’s chatbot maker. Trust us. It feels super cool to help your customers all the time.WhatsAppMarket and sell products on Whatsapp. Grow your business with our Whatsapp chatbot maker.FacebookServe your customers on facebook, 24x7. Give your users the treat of the best customer support ever.TelegramRun our Telegram bot to schedule appointments, serve customers and much moreWebsiteKeep the lead generation easy with BotPenguin taking care of your digital shopLive chatLive chat with your customers to create an quick connect with the leadsChatbot PageBe the numero uno in customer service with a chatbot page to conduct surveys and feedbacksBotPenguin | ChatGPT Breathe Life into Your Chatbot with Generative AI and ChatGPT 4  Infuse ChatGPT's LLM-powered magic to craft AI Chatbot Avatars, seamlessly mastering support, slotting, and sales. Create Your Free AI Chatbot BotPenguin is Super Penguin now!BotPenguin lets you explore horizons with supreme confidence. Who said bots taking over was a bad idea?Omnichannel Customer support Support your customers regardless of the platform with BotPenguin’s chatbot maker.Marketing Automations Generate More Sales Better Commerce Live Chat Unified Inbox Share Data with your Favorite Apps Omnichannel Customer support Support your customers regardless of the platform with BotPenguin’s chatbot maker.Marketing Automations Generate More Sales Better Commerce Live Chat Unified Inbox Share Data with your Favorite Apps Enjoy a World of Endless Possibilities with BotPenguinSince Elon feels we can technically terraform Mars, we surely can help you transform your biz into a superbiz with our cool chatbot creator.For Marketing TeamFor Support TeamFor Sales TeamFor E-CommerceTurn visitors into customers and later, traffic into revenueSegregate customers based on their demographics, purchasing habits or any criteria that you’d want.Keep your customers engaged with best offers, great discounts and latest product offerings.Get Started Free Turn visitors into customers and later, traffic into revenueSegregate customers based on their demographics, purchasing habits or any criteria that you’d want.Keep your customers engaged with best offers, great discounts and latest product offerings.For Marketing TeamTurn visitors into customers and later, traffic into revenueSegregate customers based on their demographics, purchasing habits or any criteria that you’d want.Keep your customers engaged with best offers, great discounts and latest product offerings.For Support TeamTurn visitors into customers and later, traffic into revenueSegregate customers based on their demographics, purchasing habits or any criteria that you’d want.Keep your customers engaged with best offers, great discounts and latest product offerings.For Sales TeamTurn visitors into customers and later, traffic into revenueSegregate customers based on their demographics, purchasing habits or any criteria that you’d want.Keep your customers engaged with best offers, great discounts and latest product offerings.For E-CommerceGet Started Free Make your business grow at lightning speed, that’s what!Get Started for FREE!How will he do it?Since you made it here, you must wonder how BotPenguin can do all of this. Well, you got us right on!BotPenguin goes everywhereThat’s exactly what we call an omnichannel chatbot. BotPenguin understands the need to be everywhere all at once and that's why it was created. It will help you communicate with B2B AND B2C businesses over all the platforms you want it to.BotPenguin gets MultilingualBotPenguin is more than a botBuild your Chatbot east Simply, BotPenguin does it better!Enjoy conversational AI and an impressive response time at affordable costs, plus many benefits that BotPenguin delivers to your business growth.Invest in the future growth today!  arrow_forward BotPenguin for everyoneNo matter what the industry, BotPenguin thrives easily.EcommerceSell and retain better with BotPenguin taking care of your ecommerce needs.EducationKeep your customers well informed and up to date with all the updates you push.Real EstateAutomate your business showings, list properties & help your customers in one go!ConsultantsMake consulting super easy with BotPenguin doing most of the grunt work.HealthcareHelp your patients book appointments, or reach out to a doc in just a few moments.Tour and TravelsExhibit tours, gain leads & give out excellent support to your customers in just few clicks.60+ is the magic figure for Chatbot IntegrationsEnjoy our 60+ native chatbot integrations. Be it CRMs, Appointment scheduling, or Analytics, we’ve got it all! Discover our IntegrationsLeadSquaredZoho CRMPlivoGetResponseZendeskHelpdeskGroove CRMChatGPTBitrix 24HubspotGoogle sheetsGoHigh LevelPabblySimply BookZapierDrip CRMFreshdeskJiraCooperGoogle CalendarChatGPTLeadSquaredZoho CRMPlivoGetResponseZendeskHelpdeskGroove CRMBitrix 24HubspotGoogle sheetsZapierDrip CRMFreshdeskJiraCooperGoogle CalendarWhat our Customers sayDelivering value, earning trust. Hear good words about BotPenguin on these platformsG24.6 Star RatingCapterra5.0 Star RatingCrozdesk5.0 Star RatingTrustpilot4.3 Star RatingGoodFirms5.0 Star RatingReady to see BotPenguin in action?Book a demoKnow moreBotPenguin is the best AI Chatbot maker platform. Create a Chatbot for WhatsApp, Website, Facebook Messenger, Telegram, WordPress & Shopify with BotPenguin - 100% FREE! Our chatbot creator helps with lead generation, appointment booking, customer support, marketing automation, WhatsApp & Facebook Automation for businesses. AI-powered No-Code chatbot maker with live chat plugin & ChatGPT integration.call_madecall_madecall_madecall_madecall_madeIntegrationsChatGPT PopularGoHighLevel NewSimplyBook NewPabbly NewGoogle CalendarBitrix 24HubspotGoogle SheetsAll IntegrationsPlatformsMicrosoft Teams NewInstagram NewWhatsAppTelegramFacebookWebsitesGet startedChatbot For EcommerceChatbot For Real EstateChatbot For TravelChatbot For EducationAll TemplatesFree ToolsWhatsApp Link GeneratorWhatsApp QR Code GeneratorOpenAI API Pricing CalculatorChatbot ROI CalculatorAll Free ToolsPartnersWhatsapp Whitelabel PartnerWhitelabel PartnerAffiliate PartnerImplementation PartnerResources/LearnBlogGlossaryMobile AppHelp CenterFAQsWrite for usNewsroomContact UsComparisonsBotPenguin vs ManychatBotPenguin vs TidioBotPenguin vs Tawk toBotPenguin vs WatiBotPenguin vs Interakt BotPenguin vs AiSensy BotPenguin vs LandbotAll Comparisons AlternativesWhat you getLead Generation BotSupport BotAssistant BotTerms & ConditionsPrivacy PolicySecurityGDPRRefund PolicyCopyright © 2018 - 2023 Relinns Technologies Pvt. Ltd. All Rights Reserved.BotPenguin is the best AI Chatbot maker platform. Create a Chatbot for WhatsApp, Website, Facebook Messenger, Telegram, WordPress & Shopify with BotPenguin - 100% FREE! Our chatbot creator helps with lead generation, appointment booking, customer support, marketing automation, WhatsApp & Facebook Automation for businesses. AI-powered No-Code chatbot maker with live chat plugin & ChatGPT integration.call_madecall_madecall_madecall_madecall_madeIntegrationChatGPT PopularGoHighLevel NewSimplyBook NewPabbly NewGoogle CalendarBitrix 24HubspotGoogle SheetsAll IntegrationsGet startedChatbot For EcommerceChatbot For Real EstateChatbot For TravelChatbot For EducationAll TemplatesPartnersWhatsapp Whitelabel PartnerWhitelabel PartnerAffiliate PartnerImplementation PartnerPlatformsMicrosoft Teams NewInstagram NewWhatsAppTelegramFacebookWebsitesLegalTermsPrivacy PolicySecurityGDPRRefund PolicyWhat you getLead Generation BotSupport BotAssistant BotResourcesBlogGlossaryMobile AppHelp CenterFAQsWrite for usNewsroomContact UsFree ToolsWhatsApp Link GeneratorWhatsApp QR Code GeneratorOpenAI API Pricing CalculatorChatbot ROI CalculatorAll Free ToolsComparisonsBotPenguin vs ManychatBotPenguin vs TidioBotPenguin vs Tawk toBotPenguin vs WatiBotPenguin vs Interakt BotPenguin vs AiSensy BotPenguin vs LandbotAll Comparisons AlternativesCopyright © 2018 - 2023 Relinns Technologies Pvt. Ltd.All RightsReserved.Let's get in touch Fill up the form and our team will get back to you within 24 hours contact@botpenguin.comEnter your NameEnter your Email+ 91 expand_more Enter your Phone NumberWhitelabel PartnerWhatsApp Whitelabel PartnerImplementation PartnerAffiliate PartnerEmperor PlanCustom ChatGPT DevelopmentCustom ChatBot DevelopmentOthersSelect your requirementEnter your MessageCancelSubmitBy submitting this form you agree to our terms. View our privacy policy to learn about how we use your information.Let's get in touch Fill up the form and our team will get back to you within 24 hours contact@botpenguin.comEnter your Name*Enter your Email*+ 91 expand_more Enter your Phone NumberEnter your Facebook Page Link*10k to 100k100k to 1Mn1Mn to 3Mn3Mn to 10Mn10Mn+ Select the number of followers*Less than 100k100k to 500k500k+ Select number of FB messages you get*Enter any other informationCancelClaimBy submitting this form you agree to our terms. View our privacy policy to learn about how we use your information.\\n\\n\\n\\n\\n\\n\\n\\n\\n\\n\\n\\n\\n\""
            ],
            "application/vnd.google.colaboratory.intrinsic+json": {
              "type": "string"
            }
          },
          "metadata": {},
          "execution_count": 3
        }
      ]
    },
    {
      "cell_type": "markdown",
      "source": [
        "## Splitting the data into chunks of documents"
      ],
      "metadata": {
        "id": "2nmDkeWoQoQ-"
      }
    },
    {
      "cell_type": "code",
      "source": [
        "from langchain.text_splitter import RecursiveCharacterTextSplitter\n",
        "splitter = RecursiveCharacterTextSplitter(\n",
        "  chunk_size=1000, chunk_overlap=200, length_function=len, is_separator_regex=False,\n",
        ")\n",
        "data = splitter.create_documents([str(data)])\n",
        "docs = splitter.split_documents(data)\n"
      ],
      "metadata": {
        "id": "7u1PTGPna86f"
      },
      "execution_count": 4,
      "outputs": []
    },
    {
      "cell_type": "code",
      "source": [
        "docs"
      ],
      "metadata": {
        "colab": {
          "base_uri": "https://localhost:8080/"
        },
        "id": "hI5p-nS8bNgV",
        "outputId": "bdda618a-3373-4cca-c7b5-88248219f687"
      },
      "execution_count": 5,
      "outputs": [
        {
          "output_type": "execute_result",
          "data": {
            "text/plain": [
              "[Document(page_content='Free Chatbot maker | Chatbot for Website, WhatsApp | BotPenguin'),\n",
              " Document(page_content='Got 10k+ Facebook followers? Get BotPenguin FREE for 6 monthsClaim close Why BotPenguin Integrations  arrow_right_alt Experience 60+ world-class integrations.Live Chat  arrow_right_alt Stay in the loop with your clientele 24*7!Unified Inbox  arrow_right_alt Serve your customers across all platforms.Key Features  arrow_right_alt Take your business to the next level with our awesome key features.Analytics  arrow_right_alt Speedtrack your growth with our top-of-the-line analytics tools!ComparisonsBotPenguin Vs. ManychatBotPenguin Vs. TidioBotPenguin vs Tawk toBotPenguin Vs. WatiBotPenguin Vs. InteraktBotPenguin vs AiSensyBotPenguin Vs. LandbotProduct What can it do?Who can use it?Where can it run?Marketing Automation  arrow_right_alt Make marketing a boon from the automation gods!WhatsApp Automation  arrow_right_alt Get that nifty automation for WhatsApp too!Customer Support  arrow_right_alt Your customers are in for a treat with this automation.Lead Generation  arrow_right_alt Gain more'),\n",
              " Document(page_content=\"arrow_right_alt Get that nifty automation for WhatsApp too!Customer Support  arrow_right_alt Your customers are in for a treat with this automation.Lead Generation  arrow_right_alt Gain more leads without any extra effort or expenses.FB Automation  arrow_right_alt Engage with your customers on a deeper level.Appointment Bookings  arrow_right_alt No more delays, BotPenguin’s got you here! Solutions Custom DevelopmentHire DevelopersWhitelabel ChatGPT  arrow_right_alt Apply your branding on ChatGPT, Launch your own AI platformChatGPT Custom Plugins  arrow_right_alt Integrate your service straight into ChatGPTCustom Chatbot Development  arrow_right_alt Build enterprise-grade chatbots with the industry's best technology for youChatGPT Clone  arrow_right_alt Add functionality and branding on ChatGPTPricing Chatbot Pricing (except WA)  arrow_right_alt Our pricing for Website, Telegram, Facebook and Live Chat botsWhitelabel Chatbot Pricing  arrow_right_alt Our pricing for Whitelabel\"),\n",
              " Document(page_content=\"on ChatGPTPricing Chatbot Pricing (except WA)  arrow_right_alt Our pricing for Website, Telegram, Facebook and Live Chat botsWhitelabel Chatbot Pricing  arrow_right_alt Our pricing for Whitelabel ChatbotWhatsApp Chatbot Pricing  arrow_right_alt Our WhatsApp API and chatbot pricingPartners Partners Home  arrow_right_alt Join hands with us, and welcome growthWhatsapp Whitelabel Partners  arrow_right_alt Conquer the WhatsApp land with BotPenguin's White Label PlatformWhitelabel Partners  arrow_right_alt Say hi to the best Whitelabel chatbot platform everAffiliate Partners  arrow_right_alt Earn more and keep your clients happierImplementation Partners  arrow_right_alt As they say, a partner is worth trillions!LoginGet Started FREE  Get Started FREE  arrow_forward  Why BotPenguin expand_more Integrations arrow_right_alt Live Chat arrow_right_alt Unified Inbox arrow_right_alt Key Features arrow_right_alt Analytics arrow_right_alt  Product  expand_more What can it do? expand_more Marketing\"),\n",
              " Document(page_content='Integrations arrow_right_alt Live Chat arrow_right_alt Unified Inbox arrow_right_alt Key Features arrow_right_alt Analytics arrow_right_alt  Product  expand_more What can it do? expand_more Marketing Automation arrow_right_alt WhatsApp Automation arrow_right_alt Customer Support arrow_right_alt Lead Generation arrow_right_alt FB Automation arrow_right_alt Appointment Bookings arrow_right_alt Who can use it? expand_more Healthcare arrow_right_alt Education arrow_right_alt E-commerce arrow_right_alt Real Estate arrow_right_alt Consultants arrow_right_alt SaaS arrow_right_alt Tours & Travels arrow_right_alt Where can it run? expand_more WhatsApp Chatbot arrow_right_alt Telegram Chatbot arrow_right_alt Facebook Chatbot arrow_right_alt Instagram Chatbot arrow_right_alt Websites Chatbot arrow_right_alt Wordpress Chatbot arrow_right_alt WooCommerce Chatbot arrow_right_alt Squarespace Chatbot arrow_right_alt Microsoft Teams Chatbot arrow_right_alt Solutions expand_more Custom Development'),\n",
              " Document(page_content='Wordpress Chatbot arrow_right_alt WooCommerce Chatbot arrow_right_alt Squarespace Chatbot arrow_right_alt Microsoft Teams Chatbot arrow_right_alt Solutions expand_more Custom Development expand_more Whitelabel ChatGPT arrow_right_alt ChatGPT Custom Plugins arrow_right_alt Custom Chatbot Development arrow_right_alt ChatGPT Clone arrow_right_alt Hire Developers expand_more Chatbot Developers arrow_right_alt ChatGPT Developers arrow_right_alt ChatGPT Consultants arrow_right_alt Pricing expand_more Chatbot Pricing (except WA) arrow_right_alt Whitelabel Chatbot Pricing arrow_right_alt WhatsApp Chatbot Pricing arrow_right_alt  Partners expand_more Partners Home arrow_right_alt Whatsapp Whitelabel Partners arrow_right_alt Whitelabel Partners arrow_right_alt Affiliate Partners arrow_right_alt Implementation Partners arrow_right_alt  Login  arrow_forward DO MORE with Chat Automation!BotPenguin’s Chatbot Maker and Live Chat for Website, WhatsApp, Facebook and Telegram!More leads.More'),\n",
              " Document(page_content='Implementation Partners arrow_right_alt  Login  arrow_forward DO MORE with Chat Automation!BotPenguin’s Chatbot Maker and Live Chat for Website, WhatsApp, Facebook and Telegram!More leads.More engagement.Better customer support.Get leads the moment your visitors interact with your website. Get Started FREE FREE Forever Plan, No Credit Card RequiredAn AI chatbot that can be anywhere, anytimeKeep your customers happy and engaged with an omni channel presence across all platforms with BotPenguin’s chatbot maker. Trust us. It feels super cool to help your customers all the time.WhatsAppMarket and sell products on Whatsapp. Grow your business with our Whatsapp chatbot maker.FacebookServe your customers on facebook, 24x7. Give your users the treat of the best customer support ever.TelegramRun our Telegram bot to schedule appointments, serve customers and much moreWebsiteKeep the lead generation easy with BotPenguin taking care of your digital shopLive chatLive chat with your customers to'),\n",
              " Document(page_content=\"our Telegram bot to schedule appointments, serve customers and much moreWebsiteKeep the lead generation easy with BotPenguin taking care of your digital shopLive chatLive chat with your customers to create an quick connect with the leadsChatbot PageBe the numero uno in customer service with a chatbot page to conduct surveys and feedbacksBotPenguin | ChatGPT Breathe Life into Your Chatbot with Generative AI and ChatGPT 4  Infuse ChatGPT's LLM-powered magic to craft AI Chatbot Avatars, seamlessly mastering support, slotting, and sales. Create Your Free AI Chatbot BotPenguin is Super Penguin now!BotPenguin lets you explore horizons with supreme confidence. Who said bots taking over was a bad idea?Omnichannel Customer support Support your customers regardless of the platform with BotPenguin’s chatbot maker.Marketing Automations Generate More Sales Better Commerce Live Chat Unified Inbox Share Data with your Favorite Apps Omnichannel Customer support Support your customers regardless of\"),\n",
              " Document(page_content='chatbot maker.Marketing Automations Generate More Sales Better Commerce Live Chat Unified Inbox Share Data with your Favorite Apps Omnichannel Customer support Support your customers regardless of the platform with BotPenguin’s chatbot maker.Marketing Automations Generate More Sales Better Commerce Live Chat Unified Inbox Share Data with your Favorite Apps Enjoy a World of Endless Possibilities with BotPenguinSince Elon feels we can technically terraform Mars, we surely can help you transform your biz into a superbiz with our cool chatbot creator.For Marketing TeamFor Support TeamFor Sales TeamFor E-CommerceTurn visitors into customers and later, traffic into revenueSegregate customers based on their demographics, purchasing habits or any criteria that you’d want.Keep your customers engaged with best offers, great discounts and latest product offerings.Get Started Free Turn visitors into customers and later, traffic into revenueSegregate customers based on their demographics,'),\n",
              " Document(page_content='engaged with best offers, great discounts and latest product offerings.Get Started Free Turn visitors into customers and later, traffic into revenueSegregate customers based on their demographics, purchasing habits or any criteria that you’d want.Keep your customers engaged with best offers, great discounts and latest product offerings.For Marketing TeamTurn visitors into customers and later, traffic into revenueSegregate customers based on their demographics, purchasing habits or any criteria that you’d want.Keep your customers engaged with best offers, great discounts and latest product offerings.For Support TeamTurn visitors into customers and later, traffic into revenueSegregate customers based on their demographics, purchasing habits or any criteria that you’d want.Keep your customers engaged with best offers, great discounts and latest product offerings.For Sales TeamTurn visitors into customers and later, traffic into revenueSegregate customers based on their demographics,'),\n",
              " Document(page_content=\"engaged with best offers, great discounts and latest product offerings.For Sales TeamTurn visitors into customers and later, traffic into revenueSegregate customers based on their demographics, purchasing habits or any criteria that you’d want.Keep your customers engaged with best offers, great discounts and latest product offerings.For E-CommerceGet Started Free Make your business grow at lightning speed, that’s what!Get Started for FREE!How will he do it?Since you made it here, you must wonder how BotPenguin can do all of this. Well, you got us right on!BotPenguin goes everywhereThat’s exactly what we call an omnichannel chatbot. BotPenguin understands the need to be everywhere all at once and that's why it was created. It will help you communicate with B2B AND B2C businesses over all the platforms you want it to.BotPenguin gets MultilingualBotPenguin is more than a botBuild your Chatbot east Simply, BotPenguin does it better!Enjoy conversational AI and an impressive response time\"),\n",
              " Document(page_content='the platforms you want it to.BotPenguin gets MultilingualBotPenguin is more than a botBuild your Chatbot east Simply, BotPenguin does it better!Enjoy conversational AI and an impressive response time at affordable costs, plus many benefits that BotPenguin delivers to your business growth.Invest in the future growth today!  arrow_forward BotPenguin for everyoneNo matter what the industry, BotPenguin thrives easily.EcommerceSell and retain better with BotPenguin taking care of your ecommerce needs.EducationKeep your customers well informed and up to date with all the updates you push.Real EstateAutomate your business showings, list properties & help your customers in one go!ConsultantsMake consulting super easy with BotPenguin doing most of the grunt work.HealthcareHelp your patients book appointments, or reach out to a doc in just a few moments.Tour and TravelsExhibit tours, gain leads & give out excellent support to your customers in just few clicks.60+ is the magic figure for Chatbot'),\n",
              " Document(page_content='or reach out to a doc in just a few moments.Tour and TravelsExhibit tours, gain leads & give out excellent support to your customers in just few clicks.60+ is the magic figure for Chatbot IntegrationsEnjoy our 60+ native chatbot integrations. Be it CRMs, Appointment scheduling, or Analytics, we’ve got it all! Discover our IntegrationsLeadSquaredZoho CRMPlivoGetResponseZendeskHelpdeskGroove CRMChatGPTBitrix 24HubspotGoogle sheetsGoHigh LevelPabblySimply BookZapierDrip CRMFreshdeskJiraCooperGoogle CalendarChatGPTLeadSquaredZoho CRMPlivoGetResponseZendeskHelpdeskGroove CRMBitrix 24HubspotGoogle sheetsZapierDrip CRMFreshdeskJiraCooperGoogle CalendarWhat our Customers sayDelivering value, earning trust. Hear good words about BotPenguin on these platformsG24.6 Star RatingCapterra5.0 Star RatingCrozdesk5.0 Star RatingTrustpilot4.3 Star RatingGoodFirms5.0 Star RatingReady to see BotPenguin in action?Book a demoKnow moreBotPenguin is the best AI Chatbot maker platform. Create a Chatbot for'),\n",
              " Document(page_content='Star RatingTrustpilot4.3 Star RatingGoodFirms5.0 Star RatingReady to see BotPenguin in action?Book a demoKnow moreBotPenguin is the best AI Chatbot maker platform. Create a Chatbot for WhatsApp, Website, Facebook Messenger, Telegram, WordPress & Shopify with BotPenguin - 100% FREE! Our chatbot creator helps with lead generation, appointment booking, customer support, marketing automation, WhatsApp & Facebook Automation for businesses. AI-powered No-Code chatbot maker with live chat plugin & ChatGPT integration.call_madecall_madecall_madecall_madecall_madeIntegrationsChatGPT PopularGoHighLevel NewSimplyBook NewPabbly NewGoogle CalendarBitrix 24HubspotGoogle SheetsAll IntegrationsPlatformsMicrosoft Teams NewInstagram NewWhatsAppTelegramFacebookWebsitesGet startedChatbot For EcommerceChatbot For Real EstateChatbot For TravelChatbot For EducationAll TemplatesFree ToolsWhatsApp Link GeneratorWhatsApp QR Code GeneratorOpenAI API Pricing CalculatorChatbot ROI CalculatorAll Free'),\n",
              " Document(page_content='For Real EstateChatbot For TravelChatbot For EducationAll TemplatesFree ToolsWhatsApp Link GeneratorWhatsApp QR Code GeneratorOpenAI API Pricing CalculatorChatbot ROI CalculatorAll Free ToolsPartnersWhatsapp Whitelabel PartnerWhitelabel PartnerAffiliate PartnerImplementation PartnerResources/LearnBlogGlossaryMobile AppHelp CenterFAQsWrite for usNewsroomContact UsComparisonsBotPenguin vs ManychatBotPenguin vs TidioBotPenguin vs Tawk toBotPenguin vs WatiBotPenguin vs Interakt BotPenguin vs AiSensy BotPenguin vs LandbotAll Comparisons AlternativesWhat you getLead Generation BotSupport BotAssistant BotTerms & ConditionsPrivacy PolicySecurityGDPRRefund PolicyCopyright © 2018 - 2023 Relinns Technologies Pvt. Ltd. All Rights Reserved.BotPenguin is the best AI Chatbot maker platform. Create a Chatbot for WhatsApp, Website, Facebook Messenger, Telegram, WordPress & Shopify with BotPenguin - 100% FREE! Our chatbot creator helps with lead generation, appointment booking, customer support,'),\n",
              " Document(page_content='a Chatbot for WhatsApp, Website, Facebook Messenger, Telegram, WordPress & Shopify with BotPenguin - 100% FREE! Our chatbot creator helps with lead generation, appointment booking, customer support, marketing automation, WhatsApp & Facebook Automation for businesses. AI-powered No-Code chatbot maker with live chat plugin & ChatGPT integration.call_madecall_madecall_madecall_madecall_madeIntegrationChatGPT PopularGoHighLevel NewSimplyBook NewPabbly NewGoogle CalendarBitrix 24HubspotGoogle SheetsAll IntegrationsGet startedChatbot For EcommerceChatbot For Real EstateChatbot For TravelChatbot For EducationAll TemplatesPartnersWhatsapp Whitelabel PartnerWhitelabel PartnerAffiliate PartnerImplementation PartnerPlatformsMicrosoft Teams NewInstagram NewWhatsAppTelegramFacebookWebsitesLegalTermsPrivacy PolicySecurityGDPRRefund PolicyWhat you getLead Generation BotSupport BotAssistant BotResourcesBlogGlossaryMobile AppHelp CenterFAQsWrite for usNewsroomContact UsFree ToolsWhatsApp Link'),\n",
              " Document(page_content=\"PolicySecurityGDPRRefund PolicyWhat you getLead Generation BotSupport BotAssistant BotResourcesBlogGlossaryMobile AppHelp CenterFAQsWrite for usNewsroomContact UsFree ToolsWhatsApp Link GeneratorWhatsApp QR Code GeneratorOpenAI API Pricing CalculatorChatbot ROI CalculatorAll Free ToolsComparisonsBotPenguin vs ManychatBotPenguin vs TidioBotPenguin vs Tawk toBotPenguin vs WatiBotPenguin vs Interakt BotPenguin vs AiSensy BotPenguin vs LandbotAll Comparisons AlternativesCopyright © 2018 - 2023 Relinns Technologies Pvt. Ltd.All RightsReserved.Let's get in touch Fill up the form and our team will get back to you within 24 hours contact@botpenguin.comEnter your NameEnter your Email+ 91 expand_more Enter your Phone NumberWhitelabel PartnerWhatsApp Whitelabel PartnerImplementation PartnerAffiliate PartnerEmperor PlanCustom ChatGPT DevelopmentCustom ChatBot DevelopmentOthersSelect your requirementEnter your MessageCancelSubmitBy submitting this form you agree to our terms. View our privacy\"),\n",
              " Document(page_content=\"PartnerEmperor PlanCustom ChatGPT DevelopmentCustom ChatBot DevelopmentOthersSelect your requirementEnter your MessageCancelSubmitBy submitting this form you agree to our terms. View our privacy policy to learn about how we use your information.Let's get in touch Fill up the form and our team will get back to you within 24 hours contact@botpenguin.comEnter your Name*Enter your Email*+ 91 expand_more Enter your Phone NumberEnter your Facebook Page Link*10k to 100k100k to 1Mn1Mn to 3Mn3Mn to 10Mn10Mn+ Select the number of followers*Less than 100k100k to 500k500k+ Select number of FB messages you get*Enter any other informationCancelClaimBy submitting this form you agree to our terms. View our privacy policy to learn about how we use your information.\")]"
            ]
          },
          "metadata": {},
          "execution_count": 5
        }
      ]
    },
    {
      "cell_type": "code",
      "source": [
        "len(docs)"
      ],
      "metadata": {
        "colab": {
          "base_uri": "https://localhost:8080/"
        },
        "id": "B-SXhvecbO4m",
        "outputId": "2421e8a4-d8aa-43fc-a5a2-87f9ab9edff6"
      },
      "execution_count": 6,
      "outputs": [
        {
          "output_type": "execute_result",
          "data": {
            "text/plain": [
              "18"
            ]
          },
          "metadata": {},
          "execution_count": 6
        }
      ]
    },
    {
      "cell_type": "markdown",
      "source": [
        "# Implementing the Chatbot"
      ],
      "metadata": {
        "id": "OrEyDvH7Rjci"
      }
    },
    {
      "cell_type": "markdown",
      "source": [
        "## Setting up the OPENAI_API_KEY for ChatGPT"
      ],
      "metadata": {
        "id": "al0umgC8SB1M"
      }
    },
    {
      "cell_type": "code",
      "source": [
        "import os\n",
        "os.environ[\"OPENAI_API_KEY\"] = input(\"YOUR_OPENAI_API_KEY: \")"
      ],
      "metadata": {
        "id": "XBnuqNPOdYKm"
      },
      "execution_count": null,
      "outputs": []
    },
    {
      "cell_type": "markdown",
      "source": [
        "## Storing the document data into VectorStore"
      ],
      "metadata": {
        "id": "ltc64UhiSeN3"
      }
    },
    {
      "cell_type": "code",
      "source": [
        "from langchain.vectorstores import FAISS\n",
        "from langchain_openai import OpenAIEmbeddings\n",
        "embeddings = OpenAIEmbeddings()"
      ],
      "metadata": {
        "id": "UtXTRHIqbVqV"
      },
      "execution_count": 8,
      "outputs": []
    },
    {
      "cell_type": "code",
      "source": [
        "VectorStore = FAISS.from_documents(docs, embeddings)"
      ],
      "metadata": {
        "id": "HAVZX5EbcOnb"
      },
      "execution_count": 9,
      "outputs": []
    },
    {
      "cell_type": "markdown",
      "source": [
        "## Implementing RAG(Retrieval Augmented Generation)"
      ],
      "metadata": {
        "id": "atuNIQCpS0Z2"
      }
    },
    {
      "cell_type": "code",
      "source": [
        "from langchain.chains import RetrievalQA\n",
        "from langchain.chains.question_answering import load_qa_chain\n",
        "from langchain import OpenAI"
      ],
      "metadata": {
        "id": "GI2piNUad5o_"
      },
      "execution_count": 10,
      "outputs": []
    },
    {
      "cell_type": "code",
      "source": [
        "llm = OpenAI(temperature=0.3)"
      ],
      "metadata": {
        "id": "Zx8nX74se-pV"
      },
      "execution_count": 12,
      "outputs": []
    },
    {
      "cell_type": "markdown",
      "source": [
        "### Implementing the PromptTemplate for generating the required output"
      ],
      "metadata": {
        "id": "XP554Z6vTX-9"
      }
    },
    {
      "cell_type": "code",
      "source": [
        "# please replace the name of BotPenguin with the name of your website from the template\n",
        "from langchain.prompts import PromptTemplate\n",
        "template = \"\"\"Use the following pieces of context to answer the question at the end. If you don't know the answer, just say that you don't know, don't try to make up an answer.Answer the question as you are chatbot of BotPenguin. Keep the answer as concise as possible. Always say \"thanks for asking!\" at the end of the answer.\n",
        "{context}\n",
        "Question: {question}\n",
        "Helpful Answer:\"\"\"\n",
        "QA_CHAIN_PROMPT = PromptTemplate.from_template(template)\n"
      ],
      "metadata": {
        "id": "m2_dm1DLfL4F"
      },
      "execution_count": 34,
      "outputs": []
    },
    {
      "cell_type": "markdown",
      "source": [
        "### Implementing the RAG chain"
      ],
      "metadata": {
        "id": "Oxqw16J2Uaur"
      }
    },
    {
      "cell_type": "code",
      "source": [
        "qa_chain = RetrievalQA.from_chain_type(\n",
        "    llm,\n",
        "    retriever=VectorStore.as_retriever(),\n",
        "    chain_type_kwargs={\"prompt\": QA_CHAIN_PROMPT}\n",
        ")"
      ],
      "metadata": {
        "id": "S_gerr-aUXNu"
      },
      "execution_count": 35,
      "outputs": []
    },
    {
      "cell_type": "code",
      "source": [
        "qa_chain({\"query\": \"What is BotPenguin and what it do?\"}, return_only_outputs=True)\n"
      ],
      "metadata": {
        "colab": {
          "base_uri": "https://localhost:8080/"
        },
        "id": "Jbznm2vMfleb",
        "outputId": "e420b37a-9d38-413c-be43-37f5b0a354e2"
      },
      "execution_count": 36,
      "outputs": [
        {
          "output_type": "execute_result",
          "data": {
            "text/plain": [
              "{'result': ' BotPenguin is a chatbot maker that can be integrated on various platforms such as websites, WhatsApp, and more. It helps businesses with lead generation, customer service, sales, and marketing automation. It also offers multilingual support and can be used in various industries such as ecommerce, education, real estate, consulting, healthcare, and travel. Thanks for asking!'}"
            ]
          },
          "metadata": {},
          "execution_count": 36
        }
      ]
    },
    {
      "cell_type": "code",
      "source": [
        "qa_chain({\"query\": \"How many chatbot integration Bot Penguin have done?\"})\n"
      ],
      "metadata": {
        "colab": {
          "base_uri": "https://localhost:8080/"
        },
        "id": "oIS2JGiLgFuF",
        "outputId": "12862c6b-44a8-47cd-eb55-658df3ef6d5a"
      },
      "execution_count": 37,
      "outputs": [
        {
          "output_type": "execute_result",
          "data": {
            "text/plain": [
              "{'query': 'How many chatbot integration Bot Penguin have done?',\n",
              " 'result': ' BotPenguin has done 60+ chatbot integrations. Thanks for asking!'}"
            ]
          },
          "metadata": {},
          "execution_count": 37
        }
      ]
    },
    {
      "cell_type": "code",
      "source": [
        "qa_chain({\"query\": \"What are the key features of BotPenguin\"})\n"
      ],
      "metadata": {
        "id": "oHzrE8DtjwC_",
        "colab": {
          "base_uri": "https://localhost:8080/"
        },
        "outputId": "1e5168b3-d883-4db3-ad3a-35e67374418f"
      },
      "execution_count": 38,
      "outputs": [
        {
          "output_type": "execute_result",
          "data": {
            "text/plain": [
              "{'query': 'What are the key features of BotPenguin',\n",
              " 'result': '\\nSome key features of BotPenguin include its ability to create chatbots for various platforms such as WhatsApp, Facebook Messenger, and Telegram, its integration with popular tools like ChatGPT and Google Calendar, its support for multiple languages, and its affordability. Thanks for asking!'}"
            ]
          },
          "metadata": {},
          "execution_count": 38
        }
      ]
    },
    {
      "cell_type": "code",
      "source": [
        "qa_chain({\"query\": \"  what are the messaging plateforms and tools it had done integrations \"})\n"
      ],
      "metadata": {
        "colab": {
          "base_uri": "https://localhost:8080/"
        },
        "id": "nare49G898t5",
        "outputId": "90f02a8e-137a-48f7-e3e4-052ff3bf751e"
      },
      "execution_count": 39,
      "outputs": [
        {
          "output_type": "execute_result",
          "data": {
            "text/plain": [
              "{'query': '  what are the messaging plateforms and tools it had done integrations ',\n",
              " 'result': ' BotPenguin has integrations with over 60 native chatbot platforms, including CRMs, appointment scheduling tools, and analytics tools. Some of the specific platforms and tools it integrates with include LeadSquared, Zoho CRM, Plivo, GetResponse, Zendesk, Helpdesk, Groove CRM, ChatGPT, Bitrix 24, Hubspot, Google Sheets, GoHigh Level, Pabbly, Simply Book, Zapier, Drip CRM, Freshdesk, Jira, Cooper, and Google Calendar. Thanks for asking!'}"
            ]
          },
          "metadata": {},
          "execution_count": 39
        }
      ]
    },
    {
      "cell_type": "code",
      "source": [
        "qa_chain({\"query\": \"  what is your contact email?\"})\n"
      ],
      "metadata": {
        "colab": {
          "base_uri": "https://localhost:8080/"
        },
        "id": "JlT7X4_IAIOr",
        "outputId": "262e3aeb-75ea-4d64-8e13-a7c1d6f23bda"
      },
      "execution_count": 40,
      "outputs": [
        {
          "output_type": "execute_result",
          "data": {
            "text/plain": [
              "{'query': '  what is your contact email?',\n",
              " 'result': ' Our contact email is contact@botpenguin.com. Thanks for asking!'}"
            ]
          },
          "metadata": {},
          "execution_count": 40
        }
      ]
    },
    {
      "cell_type": "code",
      "source": [
        "qa_chain({\"query\": \"  who are you?\"})"
      ],
      "metadata": {
        "colab": {
          "base_uri": "https://localhost:8080/"
        },
        "id": "ccRPfvOGBfDr",
        "outputId": "cc587e85-2029-42d2-d5f3-fd875e2700f6"
      },
      "execution_count": 41,
      "outputs": [
        {
          "output_type": "execute_result",
          "data": {
            "text/plain": [
              "{'query': '  who are you?',\n",
              " 'result': ' I am a chatbot created by BotPenguin to assist with any questions or inquiries you may have about our services. Thanks for asking!'}"
            ]
          },
          "metadata": {},
          "execution_count": 41
        }
      ]
    },
    {
      "cell_type": "code",
      "source": [
        "def generate(query):\n",
        "  if not query:\n",
        "    return \"Please enter the question\"\n",
        "\n",
        "  ans = qa_chain({\"query\":str(query)})\n",
        "  return ans['result']"
      ],
      "metadata": {
        "id": "ER9t59iDFql9"
      },
      "execution_count": 42,
      "outputs": []
    },
    {
      "cell_type": "markdown",
      "source": [
        "# Chatting with ChatBot"
      ],
      "metadata": {
        "id": "1_kf3s4AVc38"
      }
    },
    {
      "cell_type": "code",
      "source": [
        "while True:\n",
        "  query=input(\"Ask the Question or Enter exit-\\n\")\n",
        "  if query==\"exit\":\n",
        "    break\n",
        "  print(generate(query))\n",
        "  print()"
      ],
      "metadata": {
        "colab": {
          "base_uri": "https://localhost:8080/"
        },
        "id": "tUc5HEy5Vt9l",
        "outputId": "e85d8875-bd73-4cf7-c1bd-17f3cb27fa80"
      },
      "execution_count": 43,
      "outputs": [
        {
          "name": "stdout",
          "output_type": "stream",
          "text": [
            "Ask the Question or Enter exit-\n",
            "Who are you?\n",
            " I am a chatbot created by BotPenguin, a company that specializes in creating chatbots for businesses. Thanks for asking!\n",
            "\n",
            "Ask the Question or Enter exit-\n",
            "exit\n"
          ]
        }
      ]
    },
    {
      "cell_type": "code",
      "source": [],
      "metadata": {
        "id": "MJEaciB1XFKt"
      },
      "execution_count": null,
      "outputs": []
    }
  ]
}